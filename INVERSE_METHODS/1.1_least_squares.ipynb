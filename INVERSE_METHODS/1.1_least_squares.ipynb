{
 "cells": [
  {
   "cell_type": "markdown",
   "metadata": {},
   "source": [
    "# 1.1 Least squares\n",
    "## by Luca D'Auria (ldauria@iter.es)\n",
    "## Instituto Volcanológico de Canarias (INVOLCAN)\n",
    "## www.involcan.org"
   ]
  },
  {
   "cell_type": "code",
   "execution_count": null,
   "metadata": {},
   "outputs": [],
   "source": [
    "# You need to run this cell only if using the online nbviewer\n",
    "import sys\n",
    "!conda install --yes --prefix {sys.prefix} numpy matplotlib"
   ]
  },
  {
   "cell_type": "markdown",
   "metadata": {},
   "source": [
    "### Straight line fit\n",
    "\n",
    "*Forward problem*:\n",
    "$y_i=a x_i + b$\n",
    "\n",
    "*True model*:\n",
    "$a=2; b=1$\n",
    "\n",
    "#### 1) Data"
   ]
  },
  {
   "cell_type": "code",
   "execution_count": null,
   "metadata": {},
   "outputs": [],
   "source": [
    "import numpy as np\n",
    "import matplotlib.pyplot as plt\n",
    "\n",
    "x=np.array([1,2,3,4])\n",
    "\n",
    "a=5\n",
    "b=1\n",
    "y = a*x + b + np.random.random(4)\n",
    "\n",
    "plt.plot(x,y,'ko')\n",
    "plt.xlim([0,5])\n",
    "plt.show()"
   ]
  },
  {
   "cell_type": "markdown",
   "metadata": {},
   "source": [
    "#### 2) Kernel"
   ]
  },
  {
   "cell_type": "code",
   "execution_count": null,
   "metadata": {},
   "outputs": [],
   "source": [
    "G=np.empty((4,2))\n",
    "\n",
    "for i in range(4):\n",
    "    G[i,0]=x[i]  # a\n",
    "    G[i,1]=1     # b\n",
    "    \n",
    "print(G)"
   ]
  },
  {
   "cell_type": "markdown",
   "metadata": {},
   "source": [
    "#### 3) Inverse operator\n",
    "$G^{-1}=\\left( G^{T} G \\right)^{-1} G^{T}$"
   ]
  },
  {
   "cell_type": "code",
   "execution_count": null,
   "metadata": {},
   "outputs": [],
   "source": [
    "G1=np.dot(G.T,G)\n",
    "G2=np.linalg.inv(G1)\n",
    "Gi=np.dot(G2,G.T)\n",
    "\n",
    "# or alternatively...\n",
    "Gi=np.dot(np.linalg.inv(np.dot(G.T, G)), G.T)\n",
    "\n",
    "print(Gi)"
   ]
  },
  {
   "cell_type": "markdown",
   "metadata": {},
   "source": [
    "#### 4) Least squares solution"
   ]
  },
  {
   "cell_type": "code",
   "execution_count": null,
   "metadata": {},
   "outputs": [],
   "source": [
    "m=np.dot(Gi,y.T)\n",
    "print(m)"
   ]
  },
  {
   "cell_type": "markdown",
   "metadata": {},
   "source": [
    "#### 5) Checking the result"
   ]
  },
  {
   "cell_type": "code",
   "execution_count": null,
   "metadata": {},
   "outputs": [],
   "source": [
    "# Forward modeling\n",
    "ysynth=np.dot(G,m)\n",
    "\n",
    "plt.plot(x,y,'ko')\n",
    "plt.plot(x,ysynth,'r-')\n",
    "plt.xlim([0,5])\n",
    "plt.show()"
   ]
  },
  {
   "cell_type": "markdown",
   "metadata": {},
   "source": [
    "### Quadratic fit\n",
    "\n",
    "*Forward problem*:\n",
    "$y_i=a x_i^2 + b x_i + c$\n",
    "\n",
    "*True model*:\n",
    "$a=1; b=-1; c=1$\n",
    "\n",
    "#### 1) Data"
   ]
  },
  {
   "cell_type": "code",
   "execution_count": null,
   "metadata": {},
   "outputs": [],
   "source": [
    "x=np.array([1,1.5,2,3,3.5,4,5])\n",
    "\n",
    "a=1\n",
    "b=-2\n",
    "c=-5\n",
    "y = a*x**2 + b*x + c + np.random.random(7)\n",
    "\n",
    "plt.plot(x,y,'ko')\n",
    "plt.xlim([0,6])\n",
    "plt.show()"
   ]
  },
  {
   "cell_type": "markdown",
   "metadata": {},
   "source": [
    "#### 2) Kernel"
   ]
  },
  {
   "cell_type": "code",
   "execution_count": null,
   "metadata": {},
   "outputs": [],
   "source": [
    "G=np.empty((7,3))\n",
    "\n",
    "for i in range(7):\n",
    "    G[i,0]=x[i]**2  # a\n",
    "    G[i,1]=x[i]     # b\n",
    "    G[i,2]=1        # c\n",
    "    \n",
    "print(G)"
   ]
  },
  {
   "cell_type": "markdown",
   "metadata": {},
   "source": [
    "#### 3) Inverse operator\n",
    "\n",
    "$G^{-1}=\\left( G^{T} G \\right)^{-1} G^{T}$"
   ]
  },
  {
   "cell_type": "code",
   "execution_count": null,
   "metadata": {},
   "outputs": [],
   "source": [
    "Gi=np.dot(np.linalg.inv(np.dot(G.T, G)), G.T)\n",
    "\n",
    "print(Gi)"
   ]
  },
  {
   "cell_type": "markdown",
   "metadata": {},
   "source": [
    "#### 4) Least squares solution"
   ]
  },
  {
   "cell_type": "code",
   "execution_count": null,
   "metadata": {},
   "outputs": [],
   "source": [
    "m=np.dot(Gi,y.T)\n",
    "print(m)"
   ]
  },
  {
   "cell_type": "markdown",
   "metadata": {},
   "source": [
    "#### 5) Checking the result"
   ]
  },
  {
   "cell_type": "code",
   "execution_count": null,
   "metadata": {},
   "outputs": [],
   "source": [
    "# Forward modeling\n",
    "ysynth=np.dot(G,m)\n",
    "\n",
    "plt.plot(x,y,'ko')\n",
    "plt.plot(x,ysynth,'r-')\n",
    "plt.xlim([0,5])\n",
    "plt.show()"
   ]
  },
  {
   "cell_type": "markdown",
   "metadata": {},
   "source": [
    "### Plane fit\n",
    "\n",
    "*Forward problem*:\n",
    "$z_i=a x_i + b y_i + c$\n",
    "\n",
    "*True model*:\n",
    "$a=1; b=2; c=-1$\n",
    "\n",
    "#### 1) Data"
   ]
  },
  {
   "cell_type": "code",
   "execution_count": null,
   "metadata": {},
   "outputs": [],
   "source": [
    "x=np.array([1,2,3,4,2,3,4])\n",
    "y=np.array([3,2,1,3,4,1,4])\n",
    "\n",
    "a=1\n",
    "b=2\n",
    "c=-3\n",
    "z = a*x + b*y + c + np.random.random(7)\n",
    "\n",
    "# Basic 3D graphics with Matplotlib\n",
    "from mpl_toolkits.mplot3d import Axes3D\n",
    "\n",
    "fig = plt.figure()\n",
    "ax = fig.add_subplot(111, projection='3d')\n",
    "ax.scatter(x, y, z, 'ko')\n",
    "plt.show()"
   ]
  },
  {
   "cell_type": "markdown",
   "metadata": {},
   "source": [
    "#### 2) Kernel"
   ]
  },
  {
   "cell_type": "code",
   "execution_count": null,
   "metadata": {},
   "outputs": [],
   "source": [
    "G=np.empty((7,3))\n",
    "\n",
    "for i in range(7):\n",
    "    G[i,0]=x[i]  # a\n",
    "    G[i,1]=y[i]  # b\n",
    "    G[i,2]=1     # c\n",
    "    \n",
    "print(G)"
   ]
  },
  {
   "cell_type": "markdown",
   "metadata": {},
   "source": [
    "#### 3) Inverse operator\n",
    "\n",
    "$G^{-1}=\\left( G^{T} G \\right)^{-1} G^{T}$"
   ]
  },
  {
   "cell_type": "code",
   "execution_count": null,
   "metadata": {},
   "outputs": [],
   "source": [
    "Gi=np.dot(np.linalg.inv(np.dot(G.T, G)), G.T)\n",
    "\n",
    "print(Gi)"
   ]
  },
  {
   "cell_type": "markdown",
   "metadata": {},
   "source": [
    "#### 4) Least squares solution"
   ]
  },
  {
   "cell_type": "code",
   "execution_count": null,
   "metadata": {},
   "outputs": [],
   "source": [
    "m=np.dot(Gi,y.T)\n",
    "print(m)"
   ]
  },
  {
   "cell_type": "markdown",
   "metadata": {},
   "source": [
    "#### 5) Checking the result"
   ]
  },
  {
   "cell_type": "code",
   "execution_count": null,
   "metadata": {},
   "outputs": [],
   "source": [
    "# Forward modeling\n",
    "zsynth=np.dot(G,m)\n",
    "\n",
    "fig = plt.figure()\n",
    "ax = fig.add_subplot(111, projection='3d')\n",
    "\n",
    "# Plane with synth data\n",
    "Xg, Yg = np.meshgrid(np.arange(0, 5, 0.5), np.arange(0, 5, 0.5))\n",
    "Zg = m[0]*Xg + m[1]*Yg + m[2]\n",
    "ax.plot_surface(Xg, Yg, Zg, linewidth=0, alpha=0.5)\n",
    "\n",
    "ax.scatter(x, y, zsynth, 'ro')\n",
    "\n",
    "plt.show()"
   ]
  }
 ],
 "metadata": {
  "kernelspec": {
   "display_name": "Python 2",
   "language": "python",
   "name": "python2"
  },
  "language_info": {
   "codemirror_mode": {
    "name": "ipython",
    "version": 2
   },
   "file_extension": ".py",
   "mimetype": "text/x-python",
   "name": "python",
   "nbconvert_exporter": "python",
   "pygments_lexer": "ipython2",
   "version": "2.7.10"
  }
 },
 "nbformat": 4,
 "nbformat_minor": 2
}
