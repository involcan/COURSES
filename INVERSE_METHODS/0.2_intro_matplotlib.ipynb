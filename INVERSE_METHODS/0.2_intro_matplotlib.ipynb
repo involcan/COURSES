{
 "cells": [
  {
   "cell_type": "code",
   "execution_count": null,
   "metadata": {},
   "outputs": [],
   "source": [
    "import sys\n",
    "!conda install --yes --prefix {sys.prefix} numpy matplotlib"
   ]
  },
  {
   "cell_type": "code",
   "execution_count": null,
   "metadata": {},
   "outputs": [],
   "source": [
    "import matplotlib.pyplot as plt\n",
    "import numpy as np\n",
    "\n",
    "# Equally spaced points\n",
    "# From 0 to 10 with a spacing of 0.2\n",
    "x = np.arange(0,10,0.2)\n",
    "y = x**2 + 1\n",
    "\n",
    "plt.plot(x,y)\n",
    "plt.title('y=x**2')\n",
    "plt.xlabel('x')\n",
    "plt.ylabel('y')\n",
    "plt.show()"
   ]
  },
  {
   "cell_type": "code",
   "execution_count": null,
   "metadata": {},
   "outputs": [],
   "source": [
    "# Graphics with points\n",
    "plt.plot(x,y,'.')\n",
    "plt.show()"
   ]
  },
  {
   "cell_type": "code",
   "execution_count": null,
   "metadata": {},
   "outputs": [],
   "source": [
    "# Two graphics in one panel\n",
    "# Red crosses and blue line\n",
    "plt.plot(x,y,'xr')\n",
    "plt.plot(x,y,'-b')\n",
    "plt.show()"
   ]
  },
  {
   "cell_type": "code",
   "execution_count": null,
   "metadata": {},
   "outputs": [],
   "source": [
    "# Two graphics in one panel\n",
    "# Black crosses and green dotted line\n",
    "plt.plot(x,y,'xk', x,y,':g')\n",
    "plt.show()"
   ]
  },
  {
   "cell_type": "code",
   "execution_count": null,
   "metadata": {},
   "outputs": [],
   "source": [
    "# Changing marker size \n",
    "plt.plot(x,y,'xk', markersize=10)\n",
    "plt.show()"
   ]
  },
  {
   "cell_type": "code",
   "execution_count": null,
   "metadata": {},
   "outputs": [],
   "source": [
    "# Changing line width\n",
    "plt.plot(x,y,'r-', linewidth=5)\n",
    "plt.show()"
   ]
  },
  {
   "cell_type": "code",
   "execution_count": null,
   "metadata": {},
   "outputs": [],
   "source": [
    "# Changing axis range\n",
    "plt.plot(x,y,'k-')\n",
    "plt.xlim([2,8])\n",
    "plt.ylim([20,60])\n",
    "plt.show()"
   ]
  },
  {
   "cell_type": "code",
   "execution_count": null,
   "metadata": {},
   "outputs": [],
   "source": [
    "# Adding labels\n",
    "plt.plot(x,y,'k-')\n",
    "plt.annotate('Hola!', xy=(4,16), xytext=(1, 80) )\n",
    "plt.annotate('y=x**2', xy=(4, 16), xytext=(2, 40), arrowprops=dict(facecolor='black') )\n",
    "plt.show()"
   ]
  },
  {
   "cell_type": "code",
   "execution_count": null,
   "metadata": {},
   "outputs": [],
   "source": [
    "# Logarithmic scale\n",
    "plt.plot(x,y,'k-')\n",
    "plt.yscale('log')\n",
    "plt.xscale('log')\n",
    "plt.show()"
   ]
  },
  {
   "cell_type": "code",
   "execution_count": null,
   "metadata": {},
   "outputs": [],
   "source": [
    "# Polar diagrams\n",
    "ang = np.arange(0,2*np.pi,0.1)\n",
    "r = np.cos(2*ang) + 1.5\n",
    "ax = plt.subplot(111, projection='polar')\n",
    "ax.plot(ang,r,'kx')\n",
    "plt.show()"
   ]
  },
  {
   "cell_type": "code",
   "execution_count": null,
   "metadata": {},
   "outputs": [],
   "source": [
    "# Multiple plots\n",
    "\n",
    "x1 = np.arange(0.0, 5.0, 0.1)\n",
    "y1 = np.cos(2*np.pi*x1)\n",
    "\n",
    "plt.figure(1)\n",
    "\n",
    "plt.subplot(3,1,1)\n",
    "plt.plot(x1, y1, 'bo')\n",
    "\n",
    "plt.subplot(3,1,2)\n",
    "plt.plot(x1, y1, 'k')\n",
    "plt.ylim([-1.5,1.5])\n",
    "\n",
    "plt.subplot(3,1,3)\n",
    "plt.plot(x1, y1, 'r--')\n",
    "\n",
    "plt.show()"
   ]
  },
  {
   "cell_type": "code",
   "execution_count": null,
   "metadata": {},
   "outputs": [],
   "source": [
    "# Multiple graphics with an arbitrary function\n",
    "\n",
    "def f(t):\n",
    "    return np.cos(2*np.pi*t) * np.exp(-((t-2.5)/2)**2)\n",
    "\n",
    "x1 = np.arange(0.0, 5.0, 0.1)\n",
    "\n",
    "plt.figure()\n",
    "\n",
    "plt.subplot(3,1,1)\n",
    "plt.plot(x1, f(x1), 'bo')\n",
    "\n",
    "plt.subplot(3,1,2)\n",
    "plt.plot(x1, f(x1+1), 'k')\n",
    "plt.xlim([2,4])\n",
    "\n",
    "plt.subplot(3,1,3)\n",
    "plt.plot(x1, f(x1*2), 'r--')\n",
    "\n",
    "plt.show()"
   ]
  }
 ],
 "metadata": {
  "kernelspec": {
   "display_name": "Python 3",
   "language": "python",
   "name": "python3"
  },
  "language_info": {
   "codemirror_mode": {
    "name": "ipython",
    "version": 3
   },
   "file_extension": ".py",
   "mimetype": "text/x-python",
   "name": "python",
   "nbconvert_exporter": "python",
   "pygments_lexer": "ipython3",
   "version": "3.7.3"
  }
 },
 "nbformat": 4,
 "nbformat_minor": 2
}
