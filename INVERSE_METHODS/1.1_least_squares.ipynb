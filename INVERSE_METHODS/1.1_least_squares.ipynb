{
 "cells": [
  {
   "cell_type": "markdown",
   "metadata": {},
   "source": [
    "# 1.1 Least squares\n",
    "## by Luca D'Auria (ldauria@iter.es)\n",
    "## Instituto Volcanológico de Canarias (INVOLCAN)\n",
    "## www.involcan.org"
   ]
  },
  {
   "cell_type": "code",
   "execution_count": null,
   "metadata": {},
   "outputs": [],
   "source": [
    "# You need to run this cell only if using the online nbviewer\n",
    "import sys\n",
    "!conda install --yes --prefix {sys.prefix} numpy matplotlib"
   ]
  },
  {
   "cell_type": "markdown",
   "metadata": {},
   "source": [
    "### Straight line fit\n",
    "\n",
    "*Forward problem*:\n",
    "$y_i=a x_i + b$\n",
    "\n",
    "*True model*:\n",
    "$a=2; b=1$\n",
    "\n",
    "#### 1) Data"
   ]
  },
  {
   "cell_type": "code",
   "execution_count": 8,
   "metadata": {},
   "outputs": [],
   "source": [
    "import numpy as np\n",
    "import matplotlib.pyplot as plt\n",
    "\n",
    "x=np.array([1,2,3,4])\n",
    "\n",
    "# Number of data\n",
    "N=len(x)\n",
    "# Number of parameters\n",
    "M=2\n",
    "\n",
    "# Generate data with noise\n",
    "a=4\n",
    "b=1\n",
    "y = a*x + b + np.random.random(4)\n",
    "\n",
    "plt.plot(x,y,'ko')\n",
    "plt.xlim([0,5])\n",
    "plt.show()"
   ]
  },
  {
   "cell_type": "markdown",
   "metadata": {},
   "source": [
    "#### 2) Kernel"
   ]
  },
  {
   "cell_type": "code",
   "execution_count": 9,
   "metadata": {},
   "outputs": [
    {
     "name": "stdout",
     "output_type": "stream",
     "text": [
      "[[ 1.  1.]\n",
      " [ 2.  1.]\n",
      " [ 3.  1.]\n",
      " [ 4.  1.]]\n"
     ]
    }
   ],
   "source": [
    "G=np.empty((N,M))\n",
    "\n",
    "for i in range(N):\n",
    "    G[i,0]=x[i]  # a\n",
    "    G[i,1]=1     # b\n",
    "    \n",
    "print(G)"
   ]
  },
  {
   "cell_type": "markdown",
   "metadata": {},
   "source": [
    "#### 3) Inverse operator\n",
    "$G^{-1}=\\left( G^{T} G \\right)^{-1} G^{T}$"
   ]
  },
  {
   "cell_type": "code",
   "execution_count": 10,
   "metadata": {},
   "outputs": [
    {
     "name": "stdout",
     "output_type": "stream",
     "text": [
      "[[-0.3 -0.1  0.1  0.3]\n",
      " [ 1.   0.5  0.  -0.5]]\n"
     ]
    }
   ],
   "source": [
    "G1=np.dot(G.T,G)\n",
    "G2=np.linalg.inv(G1)\n",
    "Gi=np.dot(G2,G.T)\n",
    "\n",
    "# or alternatively...\n",
    "Gi=np.dot(np.linalg.inv(np.dot(G.T, G)), G.T)\n",
    "\n",
    "print(Gi)"
   ]
  },
  {
   "cell_type": "markdown",
   "metadata": {},
   "source": [
    "#### 4) Least squares solution"
   ]
  },
  {
   "cell_type": "code",
   "execution_count": 11,
   "metadata": {},
   "outputs": [
    {
     "name": "stdout",
     "output_type": "stream",
     "text": [
      "[ 4.1537601   1.07102996]\n"
     ]
    }
   ],
   "source": [
    "m=np.dot(Gi,y.T)\n",
    "print(m)"
   ]
  },
  {
   "cell_type": "markdown",
   "metadata": {},
   "source": [
    "#### 5) Checking the result"
   ]
  },
  {
   "cell_type": "code",
   "execution_count": 12,
   "metadata": {},
   "outputs": [],
   "source": [
    "# Forward modeling\n",
    "ysynth=np.dot(G,m)\n",
    "\n",
    "# Observed data\n",
    "plt.plot(x,y,'ko')\n",
    "# Synthetic data\n",
    "plt.plot(x,ysynth,'r-')\n",
    "# Residuals\n",
    "for i in range(N):\n",
    "    plt.plot([x[i],x[i]],[y[i],ysynth[i]],'b-')\n",
    "    \n",
    "plt.xlim([0,5])\n",
    "plt.show()"
   ]
  },
  {
   "cell_type": "markdown",
   "metadata": {},
   "source": [
    "### Polynomial fit\n",
    "\n",
    "*Forward problem*:\n",
    "$y_i=a x_i^3 + b x_i^2 + c x_i + d$\n",
    "\n",
    "*True model*:\n",
    "$a=0.2; b=-1; c=-1; d=2$\n",
    "\n",
    "#### 1) Data"
   ]
  },
  {
   "cell_type": "code",
   "execution_count": 18,
   "metadata": {},
   "outputs": [],
   "source": [
    "x=np.array([1,1.5,1.8,2,3,3.5,4,4.2,4.7,5])\n",
    "\n",
    "# Number of data\n",
    "N=len(x)\n",
    "# Number of parameters\n",
    "M=4\n",
    "\n",
    "# Generate data with noise\n",
    "a=0.2\n",
    "b=-1\n",
    "c=-1\n",
    "d=2\n",
    "y = a*x**3 + b*x**2 + c*x + d + np.random.random(N)\n",
    "\n",
    "plt.plot(x,y,'ko')\n",
    "plt.xlim([0,6])\n",
    "plt.show()"
   ]
  },
  {
   "cell_type": "markdown",
   "metadata": {},
   "source": [
    "#### 2) Kernel"
   ]
  },
  {
   "cell_type": "code",
   "execution_count": 19,
   "metadata": {},
   "outputs": [
    {
     "name": "stdout",
     "output_type": "stream",
     "text": [
      "[[   1.       1.       1.       1.   ]\n",
      " [   3.375    2.25     1.5      1.   ]\n",
      " [   5.832    3.24     1.8      1.   ]\n",
      " [   8.       4.       2.       1.   ]\n",
      " [  27.       9.       3.       1.   ]\n",
      " [  42.875   12.25     3.5      1.   ]\n",
      " [  64.      16.       4.       1.   ]\n",
      " [  74.088   17.64     4.2      1.   ]\n",
      " [ 103.823   22.09     4.7      1.   ]\n",
      " [ 125.      25.       5.       1.   ]]\n"
     ]
    }
   ],
   "source": [
    "G=np.empty((N,M))\n",
    "\n",
    "for i in range(N):\n",
    "    G[i,0]=x[i]**3  # a\n",
    "    G[i,1]=x[i]**2  # b\n",
    "    G[i,2]=x[i]     # c\n",
    "    G[i,3]=1        # d\n",
    "    \n",
    "print(G)"
   ]
  },
  {
   "cell_type": "markdown",
   "metadata": {},
   "source": [
    "#### 3) Inverse operator\n",
    "\n",
    "$G^{-1}=\\left( G^{T} G \\right)^{-1} G^{T}$"
   ]
  },
  {
   "cell_type": "code",
   "execution_count": 20,
   "metadata": {},
   "outputs": [],
   "source": [
    "Gi=np.dot(np.linalg.inv(np.dot(G.T, G)), G.T)"
   ]
  },
  {
   "cell_type": "markdown",
   "metadata": {},
   "source": [
    "#### 4) Least squares solution"
   ]
  },
  {
   "cell_type": "code",
   "execution_count": 21,
   "metadata": {},
   "outputs": [
    {
     "name": "stdout",
     "output_type": "stream",
     "text": [
      "[ 0.25238772 -1.46395525  0.10356362  1.88889236]\n"
     ]
    }
   ],
   "source": [
    "m=np.dot(Gi,y.T)\n",
    "print(m)"
   ]
  },
  {
   "cell_type": "markdown",
   "metadata": {},
   "source": [
    "#### 5) Checking the result"
   ]
  },
  {
   "cell_type": "code",
   "execution_count": 22,
   "metadata": {},
   "outputs": [],
   "source": [
    "# Forward modeling\n",
    "ysynth=np.dot(G,m)\n",
    "\n",
    "# Observed data\n",
    "plt.plot(x,y,'ko')\n",
    "# Synthetic data\n",
    "plt.plot(x,ysynth,'r-')\n",
    "# Residuals\n",
    "for i in range(N):\n",
    "    plt.plot([x[i],x[i]],[y[i],ysynth[i]],'b-')\n",
    "    \n",
    "plt.xlim([0,6])\n",
    "plt.show()"
   ]
  },
  {
   "cell_type": "markdown",
   "metadata": {},
   "source": [
    "### Plane fit\n",
    "\n",
    "*Forward problem*:\n",
    "$z_i=a x_i + b y_i + c$\n",
    "\n",
    "*True model*:\n",
    "$a=1; b=2; c=-3$\n",
    "\n",
    "#### 1) Data"
   ]
  },
  {
   "cell_type": "code",
   "execution_count": 23,
   "metadata": {},
   "outputs": [
    {
     "ename": "ImportError",
     "evalue": "cannot import name _backports",
     "output_type": "error",
     "traceback": [
      "\u001b[0;31m\u001b[0m",
      "\u001b[0;31mImportError\u001b[0mTraceback (most recent call last)",
      "\u001b[0;32m<ipython-input-23-9226ced9c4de>\u001b[0m in \u001b[0;36m<module>\u001b[0;34m()\u001b[0m\n\u001b[1;32m     14\u001b[0m \u001b[0;34m\u001b[0m\u001b[0m\n\u001b[1;32m     15\u001b[0m \u001b[0;31m# Basic 3D graphics with Matplotlib\u001b[0m\u001b[0;34m\u001b[0m\u001b[0;34m\u001b[0m\u001b[0m\n\u001b[0;32m---> 16\u001b[0;31m \u001b[0;32mfrom\u001b[0m \u001b[0mmpl_toolkits\u001b[0m\u001b[0;34m.\u001b[0m\u001b[0mmplot3d\u001b[0m \u001b[0;32mimport\u001b[0m \u001b[0mAxes3D\u001b[0m\u001b[0;34m\u001b[0m\u001b[0m\n\u001b[0m\u001b[1;32m     17\u001b[0m \u001b[0;34m\u001b[0m\u001b[0m\n\u001b[1;32m     18\u001b[0m \u001b[0mfig\u001b[0m \u001b[0;34m=\u001b[0m \u001b[0mplt\u001b[0m\u001b[0;34m.\u001b[0m\u001b[0mfigure\u001b[0m\u001b[0;34m(\u001b[0m\u001b[0;34m)\u001b[0m\u001b[0;34m\u001b[0m\u001b[0m\n",
      "\u001b[0;32m/Library/Python/2.7/site-packages/mpl_toolkits/mplot3d/__init__.py\u001b[0m in \u001b[0;36m<module>\u001b[0;34m()\u001b[0m\n\u001b[1;32m      4\u001b[0m \u001b[0;32mimport\u001b[0m \u001b[0msix\u001b[0m\u001b[0;34m\u001b[0m\u001b[0m\n\u001b[1;32m      5\u001b[0m \u001b[0;34m\u001b[0m\u001b[0m\n\u001b[0;32m----> 6\u001b[0;31m \u001b[0;32mfrom\u001b[0m \u001b[0;34m.\u001b[0m\u001b[0maxes3d\u001b[0m \u001b[0;32mimport\u001b[0m \u001b[0mAxes3D\u001b[0m\u001b[0;34m\u001b[0m\u001b[0m\n\u001b[0m",
      "\u001b[0;32m/Library/Python/2.7/site-packages/mpl_toolkits/mplot3d/axes3d.py\u001b[0m in \u001b[0;36m<module>\u001b[0;34m()\u001b[0m\n\u001b[1;32m     30\u001b[0m \u001b[0;32mimport\u001b[0m \u001b[0mmatplotlib\u001b[0m\u001b[0;34m.\u001b[0m\u001b[0mtransforms\u001b[0m \u001b[0;32mas\u001b[0m \u001b[0mmtransforms\u001b[0m\u001b[0;34m\u001b[0m\u001b[0m\n\u001b[1;32m     31\u001b[0m \u001b[0;32mfrom\u001b[0m \u001b[0mmatplotlib\u001b[0m\u001b[0;34m.\u001b[0m\u001b[0maxes\u001b[0m \u001b[0;32mimport\u001b[0m \u001b[0mAxes\u001b[0m\u001b[0;34m,\u001b[0m \u001b[0mrcParams\u001b[0m\u001b[0;34m\u001b[0m\u001b[0m\n\u001b[0;32m---> 32\u001b[0;31m \u001b[0;32mfrom\u001b[0m \u001b[0mmatplotlib\u001b[0m\u001b[0;34m.\u001b[0m\u001b[0mcbook\u001b[0m \u001b[0;32mimport\u001b[0m \u001b[0m_backports\u001b[0m\u001b[0;34m\u001b[0m\u001b[0m\n\u001b[0m\u001b[1;32m     33\u001b[0m \u001b[0;32mfrom\u001b[0m \u001b[0mmatplotlib\u001b[0m\u001b[0;34m.\u001b[0m\u001b[0mcolors\u001b[0m \u001b[0;32mimport\u001b[0m \u001b[0mNormalize\u001b[0m\u001b[0;34m,\u001b[0m \u001b[0mLightSource\u001b[0m\u001b[0;34m\u001b[0m\u001b[0m\n\u001b[1;32m     34\u001b[0m \u001b[0;32mfrom\u001b[0m \u001b[0mmatplotlib\u001b[0m\u001b[0;34m.\u001b[0m\u001b[0mtransforms\u001b[0m \u001b[0;32mimport\u001b[0m \u001b[0mBbox\u001b[0m\u001b[0;34m\u001b[0m\u001b[0m\n",
      "\u001b[0;31mImportError\u001b[0m: cannot import name _backports"
     ]
    }
   ],
   "source": [
    "x=np.array([1,2,3,4,2,3,4])\n",
    "y=np.array([3,2,1,3,4,1,4])\n",
    "\n",
    "# Number of data\n",
    "N=len(x)\n",
    "# Number of parameters\n",
    "M=3\n",
    "\n",
    "# Generate data with noise\n",
    "a=1\n",
    "b=2\n",
    "c=-3\n",
    "z = a*x + b*y + c + np.random.random(N)\n",
    "\n",
    "# Basic 3D graphics with Matplotlib\n",
    "from mpl_toolkits.mplot3d import Axes3D\n",
    "\n",
    "fig = plt.figure()\n",
    "ax = fig.add_subplot(111, projection='3d')\n",
    "ax.scatter(x, y, z, 'ko')\n",
    "plt.show()"
   ]
  },
  {
   "cell_type": "markdown",
   "metadata": {},
   "source": [
    "#### 2) Kernel"
   ]
  },
  {
   "cell_type": "code",
   "execution_count": null,
   "metadata": {},
   "outputs": [],
   "source": [
    "G=np.empty((N,M))\n",
    "\n",
    "for i in range(N):\n",
    "    G[i,0]=x[i]  # a\n",
    "    G[i,1]=y[i]  # b\n",
    "    G[i,2]=1     # c\n",
    "    \n",
    "print(G)"
   ]
  },
  {
   "cell_type": "markdown",
   "metadata": {},
   "source": [
    "#### 3) Inverse operator\n",
    "\n",
    "$G^{-1}=\\left( G^{T} G \\right)^{-1} G^{T}$"
   ]
  },
  {
   "cell_type": "code",
   "execution_count": null,
   "metadata": {},
   "outputs": [],
   "source": [
    "Gi=np.dot(np.linalg.inv(np.dot(G.T, G)), G.T)"
   ]
  },
  {
   "cell_type": "markdown",
   "metadata": {},
   "source": [
    "#### 4) Least squares solution"
   ]
  },
  {
   "cell_type": "code",
   "execution_count": null,
   "metadata": {},
   "outputs": [],
   "source": [
    "m=np.dot(Gi,y.T)\n",
    "print(m)"
   ]
  },
  {
   "cell_type": "markdown",
   "metadata": {},
   "source": [
    "#### 5) Checking the result"
   ]
  },
  {
   "cell_type": "code",
   "execution_count": null,
   "metadata": {},
   "outputs": [],
   "source": [
    "# Forward modeling\n",
    "zsynth=np.dot(G,m)\n",
    "\n",
    "fig = plt.figure()\n",
    "ax = fig.add_subplot(111, projection='3d')\n",
    "\n",
    "# Plane with synthetic data\n",
    "Xg, Yg = np.meshgrid(np.arange(0, 6, 0.5), np.arange(0, 6, 0.5))\n",
    "Zg = m[0]*Xg + m[1]*Yg + m[2]\n",
    "ax.plot_surface(Xg, Yg, Zg, linewidth=0, alpha=0.5)\n",
    "\n",
    "# Data\n",
    "ax.scatter(x, y, zsynth, 'ro')\n",
    "\n",
    "# Residuals\n",
    "for i in range(N):\n",
    "    plt.plot([x[i],x[i]],[y[i],y[i]],[z[i],zsynth[i]],'b-')\n",
    "\n",
    "plt.show()"
   ]
  }
 ],
 "metadata": {
  "kernelspec": {
   "display_name": "Python 2",
   "language": "python",
   "name": "python2"
  },
  "language_info": {
   "codemirror_mode": {
    "name": "ipython",
    "version": 2
   },
   "file_extension": ".py",
   "mimetype": "text/x-python",
   "name": "python",
   "nbconvert_exporter": "python",
   "pygments_lexer": "ipython2",
   "version": "2.7.10"
  }
 },
 "nbformat": 4,
 "nbformat_minor": 2
}
