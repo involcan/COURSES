{
 "cells": [
  {
   "cell_type": "markdown",
   "metadata": {},
   "source": [
    "# 1.2 Matrix decomposition\n",
    "## by Luca D'Auria (ldauria@iter.es)\n",
    "## Instituto Volcanológico de Canarias (INVOLCAN)\n",
    "## www.involcan.org"
   ]
  },
  {
   "cell_type": "code",
   "execution_count": 1,
   "metadata": {},
   "outputs": [
    {
     "name": "stdout",
     "output_type": "stream",
     "text": [
      "/bin/sh: 1: conda: not found\r\n"
     ]
    }
   ],
   "source": [
    "# You need to run this cell only if using the online nbviewer\n",
    "import sys\n",
    "!conda install --yes --prefix {sys.prefix} numpy matplotlib"
   ]
  },
  {
   "cell_type": "markdown",
   "metadata": {},
   "source": [
    "### Diagonal matrices"
   ]
  },
  {
   "cell_type": "code",
   "execution_count": 2,
   "metadata": {},
   "outputs": [
    {
     "name": "stdout",
     "output_type": "stream",
     "text": [
      "[[5 0 0 0]\n",
      " [0 3 0 0]\n",
      " [0 0 2 0]\n",
      " [0 0 0 1]]\n"
     ]
    }
   ],
   "source": [
    "import numpy as np\n",
    "\n",
    "dm = np.diag([5,3,2,1])\n",
    "print(dm)"
   ]
  },
  {
   "cell_type": "code",
   "execution_count": 3,
   "metadata": {},
   "outputs": [
    {
     "name": "stdout",
     "output_type": "stream",
     "text": [
      "[[ 2  3  1]\n",
      " [ 2  3  0]\n",
      " [ 4 -1 -1]]\n",
      "Diag = [ 2  3 -1]\n"
     ]
    }
   ],
   "source": [
    "m=np.array([[2,3,1],[2,3,0],[4,-1,-1]])\n",
    "print(m)\n",
    "print(\"Diag =\",np.diag(m))"
   ]
  },
  {
   "cell_type": "markdown",
   "metadata": {},
   "source": [
    "### Orthogonal matrices"
   ]
  },
  {
   "cell_type": "code",
   "execution_count": 4,
   "metadata": {},
   "outputs": [
    {
     "name": "stdout",
     "output_type": "stream",
     "text": [
      "[[ 0.28571429  0.85714286  0.42857143]\n",
      " [ 0.42857143  0.28571429 -0.85714286]\n",
      " [ 0.85714286 -0.42857143  0.28571429]]\n"
     ]
    }
   ],
   "source": [
    "Mo=np.array([[2,6,3],[3,2,-6],[6,-3,2]])/7\n",
    "\n",
    "print(Mo)"
   ]
  },
  {
   "cell_type": "markdown",
   "metadata": {},
   "source": [
    "#### $M_1 = M_o M_o^T$\n",
    "#### $M_2 = M_o^T M_o$"
   ]
  },
  {
   "cell_type": "code",
   "execution_count": 5,
   "metadata": {},
   "outputs": [
    {
     "name": "stdout",
     "output_type": "stream",
     "text": [
      "M1\n",
      "[[ 1.  0. -0.]\n",
      " [ 0.  1. -0.]\n",
      " [-0. -0.  1.]]\n",
      "M2\n",
      "[[ 1.  0. -0.]\n",
      " [ 0.  1. -0.]\n",
      " [-0. -0.  1.]]\n"
     ]
    }
   ],
   "source": [
    "M1=np.dot(Mo,Mo.T)\n",
    "print(\"M1\")\n",
    "print(np.round(M1))\n",
    "\n",
    "M2=np.dot(Mo,Mo.T)\n",
    "print(\"M2\")\n",
    "print(np.round(M2))"
   ]
  },
  {
   "cell_type": "markdown",
   "metadata": {},
   "source": [
    "## Matrix as linear operators"
   ]
  },
  {
   "cell_type": "code",
   "execution_count": 6,
   "metadata": {},
   "outputs": [
    {
     "name": "stdout",
     "output_type": "stream",
     "text": [
      "M\n",
      "[[1 1]\n",
      " [0 2]]\n",
      "vt= [1.5 2. ]\n"
     ]
    },
    {
     "data": {
      "text/plain": [
       "<Figure size 640x480 with 1 Axes>"
      ]
     },
     "metadata": {},
     "output_type": "display_data"
    }
   ],
   "source": [
    "import matplotlib.pyplot as plt\n",
    "\n",
    "M=np.array([[1,1],[0,2]])\n",
    "print(\"M\")\n",
    "print(M)\n",
    "\n",
    "# Original vector\n",
    "v=np.array([0.5,1])\n",
    "\n",
    "# Transformed vectors\n",
    "vt=np.dot(M,v.T)\n",
    "print(\"vt=\",vt)\n",
    "\n",
    "# Plot\n",
    "plt.arrow(0,0,v[0],v[1], length_includes_head=True, head_width=0.05, fc='k', ec='k')\n",
    "plt.arrow(v[0],v[1],vt[0],vt[1], length_includes_head=True, head_width=0.05, fc='b', ec='b')\n",
    "\n",
    "# Equal aspect ratio\n",
    "plt.xlim([0,3])\n",
    "plt.ylim([0,3])\n",
    "plt.gca().set_aspect('equal','box')\n",
    "\n",
    "plt.show()"
   ]
  },
  {
   "cell_type": "code",
   "execution_count": 7,
   "metadata": {},
   "outputs": [
    {
     "data": {
      "image/png": "[encoded data removed]",
      "text/plain": [
       "<Figure size 432x288 with 1 Axes>"
      ]
     },
     "metadata": {},
     "output_type": "display_data"
    }
   ],
   "source": [
    "# Original vectors\n",
    "ang=np.linspace(0,2*np.pi,37)\n",
    "x=np.cos(ang)\n",
    "y=np.sin(ang)\n",
    "v=np.vstack((x,y))\n",
    "\n",
    "# Transformed vectors\n",
    "vt=np.dot(M,v)\n",
    "\n",
    "for i in range(len(ang)):\n",
    "    # Plot original vectors\n",
    "    plt.plot([0,v[0,i]],[0,v[1,i]],'k')\n",
    "    # Plotting transformed vector\n",
    "    plt.plot([v[0,i],v[0,i]+vt[0,i]],[v[1,i],v[1,i]+vt[1,i]],'b')\n",
    "\n",
    "# Equal aspect ratio\n",
    "plt.gca().set_aspect('equal', 'box')\n",
    "\n",
    "plt.show()"
   ]
  },
  {
   "cell_type": "markdown",
   "metadata": {},
   "source": [
    "### Pure stretching"
   ]
  },
  {
   "cell_type": "code",
   "execution_count": 8,
   "metadata": {},
   "outputs": [
    {
     "name": "stdout",
     "output_type": "stream",
     "text": [
      "M\n",
      "[[2.  0. ]\n",
      " [0.  0.7]]\n"
     ]
    },
    {
     "data": {
      "image/png": "[encoded data removed]",
      "text/plain": [
       "<Figure size 432x288 with 1 Axes>"
      ]
     },
     "metadata": {},
     "output_type": "display_data"
    }
   ],
   "source": [
    "M=np.diag([2,0.7])\n",
    "\n",
    "print(\"M\")\n",
    "print(M)\n",
    "\n",
    "# Original vectors\n",
    "ang=np.linspace(0,2*np.pi,37)\n",
    "x=np.cos(ang)\n",
    "y=np.sin(ang)\n",
    "v=np.vstack((x,y))\n",
    "\n",
    "# Transformed vectors\n",
    "vt=np.dot(M,v)\n",
    "\n",
    "# Plot vectors\n",
    "for i in range(len(ang)):\n",
    "    plt.plot([0,v[0,i]],[0,v[1,i]],'k')\n",
    "    plt.plot([v[0,i],v[0,i]+vt[0,i]],[v[1,i],v[1,i]+vt[1,i]],'b')\n",
    "\n",
    "# Equal aspect ratio\n",
    "plt.gca().set_aspect('equal', 'box')\n",
    "\n",
    "plt.show()"
   ]
  },
  {
   "cell_type": "markdown",
   "metadata": {},
   "source": [
    "### Pure rotation"
   ]
  },
  {
   "cell_type": "code",
   "execution_count": 9,
   "metadata": {},
   "outputs": [
    {
     "name": "stdout",
     "output_type": "stream",
     "text": [
      "M\n",
      "[[ 0.76604444 -0.64278761]\n",
      " [ 0.64278761  0.76604444]]\n"
     ]
    },
    {
     "data": {
      "image/png": "[encoded data removed]",
      "text/plain": [
       "<Figure size 432x288 with 1 Axes>"
      ]
     },
     "metadata": {},
     "output_type": "display_data"
    }
   ],
   "source": [
    "# Rotation of 40º counterclockwise\n",
    "ang=40*np.pi/180\n",
    "\n",
    "M=np.array([[np.cos(ang),-np.sin(ang)],[np.sin(ang),np.cos(ang)]])\n",
    "\n",
    "print(\"M\")\n",
    "print(M)\n",
    "\n",
    "# Original vectors\n",
    "ang=np.linspace(0,2*np.pi,37)\n",
    "x=np.cos(ang)\n",
    "y=np.sin(ang)\n",
    "v=np.vstack((x,y))\n",
    "\n",
    "# Transformed vectors\n",
    "vt=np.dot(M,v)\n",
    "\n",
    "# Plot vectors\n",
    "for i in range(len(ang)):\n",
    "    plt.plot([0,v[0,i]],[0,v[1,i]],'k')\n",
    "    plt.plot([v[0,i],v[0,i]+vt[0,i]],[v[1,i],v[1,i]+vt[1,i]],'b')\n",
    "\n",
    "plt.gca().set_aspect('equal', 'box')\n",
    "\n",
    "plt.show()"
   ]
  },
  {
   "cell_type": "markdown",
   "metadata": {},
   "source": [
    "## Eigenvalues and eigenvectors"
   ]
  },
  {
   "cell_type": "code",
   "execution_count": 10,
   "metadata": {},
   "outputs": [
    {
     "name": "stdout",
     "output_type": "stream",
     "text": [
      "M\n",
      "[[1 1]\n",
      " [0 2]]\n",
      "evalue= [1. 2.]\n",
      "evect 1 = [1. 0.]\n",
      "evect 2 = [0.70710678 0.70710678]\n"
     ]
    }
   ],
   "source": [
    "M=np.array([[1,1],[0,2]])\n",
    "\n",
    "print(\"M\")\n",
    "print(M)\n",
    "\n",
    "evalue, evect = np.linalg.eig(M)\n",
    "\n",
    "evect1=evect[:,0]\n",
    "evect2=evect[:,1]\n",
    "\n",
    "print(\"evalue=\",evalue)\n",
    "print(\"evect 1 =\",evect1)\n",
    "print(\"evect 2 =\",evect2)"
   ]
  },
  {
   "cell_type": "code",
   "execution_count": 11,
   "metadata": {},
   "outputs": [
    {
     "name": "stdout",
     "output_type": "stream",
     "text": [
      "1.0\n",
      "0.9999999999999999\n"
     ]
    }
   ],
   "source": [
    "# Are eigenvector normalized?\n",
    "print(np.linalg.norm(evect1))\n",
    "print(np.linalg.norm(evect2))"
   ]
  },
  {
   "cell_type": "code",
   "execution_count": 12,
   "metadata": {},
   "outputs": [
    {
     "data": {
      "image/png": "[encoded data removed]",
      "text/plain": [
       "<Figure size 432x288 with 1 Axes>"
      ]
     },
     "metadata": {},
     "output_type": "display_data"
    }
   ],
   "source": [
    "# Transformed vectors\n",
    "vt=np.dot(M,v)\n",
    "\n",
    "# Transformed eigenvectors\n",
    "evect1t=np.dot(M,evect1.T)\n",
    "evect2t=np.dot(M,evect2.T)\n",
    "\n",
    "# Plot vectors\n",
    "for i in range(len(ang)):\n",
    "    plt.plot([0,v[0,i]],[0,v[1,i]],'k')\n",
    "    plt.plot([v[0,i],v[0,i]+vt[0,i]],[v[1,i],v[1,i]+vt[1,i]],'b')\n",
    "\n",
    "# Plotting eigenvectors\n",
    "plt.plot([0,evect1[0],evect1[0]+evect1t[0]],[0,evect1[1],evect1[1]+evect1t[1]],'r', linewidth=2)\n",
    "plt.plot([0,evect2[0],evect2[0]+evect2t[0]],[0,evect2[1],evect2[1]+evect2t[1]],'r', linewidth=2)\n",
    "\n",
    "plt.gca().set_aspect('equal', 'box')\n",
    "\n",
    "plt.show()"
   ]
  },
  {
   "cell_type": "markdown",
   "metadata": {},
   "source": [
    "### Uses of eigenvalues\n",
    "\n",
    "#### 1) Trace of a matrix $Tr\\left(\\mathbf{M}\\right) = \\sum M_{ii} = \\sum \\lambda_i$"
   ]
  },
  {
   "cell_type": "code",
   "execution_count": 13,
   "metadata": {},
   "outputs": [
    {
     "name": "stdout",
     "output_type": "stream",
     "text": [
      "tr1= 3  tr2= 3.0\n"
     ]
    }
   ],
   "source": [
    "tr1=np.sum(np.diag(M))\n",
    "tr2=np.sum(evalue)\n",
    "\n",
    "print(\"tr1=\",tr1,\" tr2=\",tr2)"
   ]
  },
  {
   "cell_type": "markdown",
   "metadata": {},
   "source": [
    "#### Determinant of a matrix $det\\left( \\mathbf{M}\\right) = \\prod \\lambda_i$"
   ]
  },
  {
   "cell_type": "code",
   "execution_count": 14,
   "metadata": {},
   "outputs": [
    {
     "name": "stdout",
     "output_type": "stream",
     "text": [
      "det1= 2.0  det2= 2.0\n"
     ]
    }
   ],
   "source": [
    "det1=np.linalg.det(M)\n",
    "det2=np.prod(evalue)\n",
    "\n",
    "print(\"det1=\",det1,\" det2=\",det2)"
   ]
  },
  {
   "cell_type": "markdown",
   "metadata": {},
   "source": [
    "### Eigendecomposition of a matrix\n",
    "\n",
    "$\\mathbf{M} = \\mathbf{V} \\mathbf{\\Lambda} \\mathbf{V}^{-1}$"
   ]
  },
  {
   "cell_type": "code",
   "execution_count": 15,
   "metadata": {},
   "outputs": [
    {
     "name": "stdout",
     "output_type": "stream",
     "text": [
      "M\n",
      "[[1 1]\n",
      " [0 2]]\n",
      "MM\n",
      "[[1. 1.]\n",
      " [0. 2.]]\n"
     ]
    }
   ],
   "source": [
    "evalue, V = np.linalg.eig(M)\n",
    "Lambda = np.diag(evalue)\n",
    "\n",
    "Vi=np.linalg.inv(V)\n",
    "\n",
    "# Recostruction of M from its eigendecomposition\n",
    "MM = np.dot(V,np.dot(Lambda,Vi))\n",
    "\n",
    "print(\"M\")\n",
    "print(M)\n",
    "print(\"MM\")\n",
    "print(MM)"
   ]
  },
  {
   "cell_type": "markdown",
   "metadata": {},
   "source": [
    "### Diagonalizable matrices"
   ]
  },
  {
   "cell_type": "code",
   "execution_count": 16,
   "metadata": {},
   "outputs": [
    {
     "name": "stdout",
     "output_type": "stream",
     "text": [
      "M\n",
      "[[ 0.8660254 -0.5      ]\n",
      " [ 0.5        0.8660254]]\n",
      "evalue= [0.8660254+0.5j 0.8660254-0.5j]\n",
      "evect 1 = [0.70710678+0.j         0.        -0.70710678j]\n",
      "evect 2 = [0.70710678-0.j         0.        +0.70710678j]\n"
     ]
    }
   ],
   "source": [
    "# Rotation matrix: an example of non diagonalizable matrix\n",
    "\n",
    "ang=30*np.pi/180\n",
    "M=np.array([[np.cos(ang),-np.sin(ang)],[np.sin(ang),np.cos(ang)]])\n",
    "\n",
    "print(\"M\")\n",
    "print(M)\n",
    "\n",
    "evalue, evect = np.linalg.eig(M)\n",
    "\n",
    "evect1=evect[:,0]\n",
    "evect2=evect[:,1]\n",
    "\n",
    "print(\"evalue=\",evalue)\n",
    "print(\"evect 1 =\",evect1)\n",
    "print(\"evect 2 =\",evect2)"
   ]
  },
  {
   "cell_type": "markdown",
   "metadata": {},
   "source": [
    "### Using the eigendecomposition for matrix inversion\n",
    "$\\mathbf{M}^{-1} = \\mathbf{V} \\mathbf{\\Lambda}^{-1} \\mathbf{V}^{-1}$"
   ]
  },
  {
   "cell_type": "code",
   "execution_count": 17,
   "metadata": {},
   "outputs": [
    {
     "name": "stdout",
     "output_type": "stream",
     "text": [
      "[[ 1.-0.j -0.+1.j]\n",
      " [ 0.-0.j  1.+1.j]]\n"
     ]
    }
   ],
   "source": [
    "Lambda_i = np.diag(1/evalue)\n",
    "\n",
    "Mi = np.dot(V,np.dot(Lambda_i,Vi))\n",
    "\n",
    "# Verify Mi is the inverse of M\n",
    "print(np.round(np.dot(M,Mi)))"
   ]
  },
  {
   "cell_type": "markdown",
   "metadata": {},
   "source": [
    "## Singular value decomposition\n",
    "$\\mathbf{M} = \\mathbf{U} \\mathbf{\\Sigma} \\mathbf{V}^T$"
   ]
  },
  {
   "cell_type": "code",
   "execution_count": 18,
   "metadata": {},
   "outputs": [
    {
     "name": "stdout",
     "output_type": "stream",
     "text": [
      "U  (3, 3)\n",
      "S  (2,)\n",
      "VT  (2, 2)\n"
     ]
    }
   ],
   "source": [
    "M=np.array([[2,1],[2,2],[-1,0]])\n",
    "\n",
    "U, S, VT = np.linalg.svd(M)\n",
    "\n",
    "print(\"U \",U.shape)\n",
    "print(\"S \",S.shape)\n",
    "print(\"VT \",VT.shape)"
   ]
  },
  {
   "cell_type": "code",
   "execution_count": 19,
   "metadata": {},
   "outputs": [
    {
     "name": "stdout",
     "output_type": "stream",
     "text": [
      "Sigma\n",
      "[[3.65028154 0.        ]\n",
      " [0.         0.82185442]\n",
      " [0.         0.        ]]\n",
      "M\n",
      "[[ 2  1]\n",
      " [ 2  2]\n",
      " [-1  0]]\n",
      "MM\n",
      "[[ 2.  1.]\n",
      " [ 2.  2.]\n",
      " [-1. -0.]]\n"
     ]
    }
   ],
   "source": [
    "# Let's check it\n",
    "Sigma=np.zeros((3,2))\n",
    "Sigma[:2, :2] = np.diag(S)\n",
    "\n",
    "print(\"Sigma\")\n",
    "print(Sigma)\n",
    "\n",
    "MM=np.dot(U,np.dot(Sigma,VT))\n",
    "\n",
    "print(\"M\")\n",
    "print(M)\n",
    "\n",
    "print(\"MM\")\n",
    "print(np.round(MM))"
   ]
  },
  {
   "cell_type": "code",
   "execution_count": 20,
   "metadata": {},
   "outputs": [
    {
     "name": "stdout",
     "output_type": "stream",
     "text": [
      "[[ 1.  0.  0.]\n",
      " [ 0.  1. -0.]\n",
      " [ 0. -0.  1.]]\n"
     ]
    }
   ],
   "source": [
    "# Is U orthogonal?\n",
    "print(np.round(np.dot(U,U.T)))"
   ]
  },
  {
   "cell_type": "code",
   "execution_count": 21,
   "metadata": {},
   "outputs": [
    {
     "name": "stdout",
     "output_type": "stream",
     "text": [
      "[[1. 0.]\n",
      " [0. 1.]]\n"
     ]
    }
   ],
   "source": [
    "# Is V orthogonal?\n",
    "print(np.round(np.dot(VT,VT.T)))"
   ]
  },
  {
   "cell_type": "markdown",
   "metadata": {},
   "source": [
    "### Pseudoinverse with SVD\n",
    "Definition: $\\mathbf{M}^{-g} \\mathbf{M} = \\mathbf{I}$\n",
    "\n",
    "Using SVD: $\\mathbf{M}^{-g} = \\mathbf{V} \\mathbf{\\Sigma}^{-1} \\mathbf{U}^T$"
   ]
  },
  {
   "cell_type": "code",
   "execution_count": 22,
   "metadata": {},
   "outputs": [
    {
     "name": "stdout",
     "output_type": "stream",
     "text": [
      "[[ 1.  0. -0.]\n",
      " [ 0.  1.  0.]\n",
      " [-0.  0.  1.]]\n"
     ]
    }
   ],
   "source": [
    "V=VT.T\n",
    "\n",
    "Sigma_i = np.zeros((2,3))\n",
    "Sigma_i[:2, :2] = np.diag(1./S)\n",
    "\n",
    "UT = U.T\n",
    "\n",
    "Mg = np.dot(V,np.dot(Sigma_i,UT))\n",
    "\n",
    "print(np.round(np.dot(M,Mg)))"
   ]
  }
 ],
 "metadata": {
  "kernelspec": {
   "display_name": "Python 2",
   "language": "python",
   "name": "python2"
  },
  "language_info": {
   "codemirror_mode": {
    "name": "ipython",
    "version": 2
   },
   "file_extension": ".py",
   "mimetype": "text/x-python",
   "name": "python",
   "nbconvert_exporter": "python",
   "pygments_lexer": "ipython2",
   "version": "2.7.10"
  }
 },
 "nbformat": 4,
 "nbformat_minor": 2
}
